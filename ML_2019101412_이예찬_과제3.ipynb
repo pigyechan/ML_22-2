{
  "nbformat": 4,
  "nbformat_minor": 0,
  "metadata": {
    "colab": {
      "provenance": [],
      "collapsed_sections": [],
      "authorship_tag": "ABX9TyPAKS/mE/7axGaMJLAKekMP",
      "include_colab_link": true
    },
    "kernelspec": {
      "name": "python3",
      "display_name": "Python 3"
    },
    "language_info": {
      "name": "python"
    }
  },
  "cells": [
    {
      "cell_type": "markdown",
      "metadata": {
        "id": "view-in-github",
        "colab_type": "text"
      },
      "source": [
        "<a href=\"https://colab.research.google.com/github/pigyechan/ML_22-2/blob/main/ML_2019101412_%EC%9D%B4%EC%98%88%EC%B0%AC_%EA%B3%BC%EC%A0%9C3.ipynb\" target=\"_parent\"><img src=\"https://colab.research.google.com/assets/colab-badge.svg\" alt=\"Open In Colab\"/></a>"
      ]
    },
    {
      "cell_type": "markdown",
      "source": [
        "#[과제 3] Machine Learning of Multiple Features\n",
        "##**컴퓨터 메카트로닉스공학부 소프트웨어전공**\n",
        "###**2019101412 이예찬**"
      ],
      "metadata": {
        "id": "GT3q7s1DV7uz"
      }
    },
    {
      "cell_type": "markdown",
      "source": [
        "###*행복지수를 예측하는 모델 만들기*\n",
        "> 요소 3가지(숙면시간, 운동시간, 취미활동시간)을 가지고 그 날의 행복 지수를 예측하는 모델을 만들고자 한다."
      ],
      "metadata": {
        "id": "zsq43s1bVNss"
      }
    },
    {
      "cell_type": "code",
      "execution_count": 1,
      "metadata": {
        "id": "g4w9jFZMUyHt",
        "colab": {
          "base_uri": "https://localhost:8080/"
        },
        "outputId": "34661dae-205c-4919-f578-90baf0504cfb"
      },
      "outputs": [
        {
          "output_type": "stream",
          "name": "stdout",
          "text": [
            "1000000 1000000 1000000 1000000\n"
          ]
        }
      ],
      "source": [
        "import pandas as pd #pandas 모듈을 pd라는 이름으로 불러오기\n",
        "import numpy as np #numpy 모듈을 np라는 이름으로 불러오기\n",
        "from numpy import random #numpy의 서브모듈인 random을 이용하여 난수를 생성.\n",
        "import sklearn\n",
        "\n",
        "#랜덤하게 난수를 생성해서 중복이 없는 train set, target set 만드는 함수 먼저 생성\n",
        "def Random_train(a,b):\n",
        "    train_list = []\n",
        "    train_fin_list = []\n",
        "    train_set = set() #중복이 없지만 순서가 상관없는 set형태 사용.\n",
        "\n",
        "    while len(train_set) < 1000000: #train_set의 길이가 100만일때까지 실행\n",
        "        for i in range(1000000-len(train_set)): #100만에서 train_set의 길이를 뺀 만큼 실행.\n",
        "            num = round(random.uniform(a,b),6) #소수점 여섯번째까지 a부터 b사이의 실수인 난수 생성\n",
        "            train_list.append(num) #train_list에 하나씩 list형태로 넣음.\n",
        "        train_set = set.union(train_set, set(train_list)) #합집합 형태로 중복되는 값 제거\n",
        "    train_fin_list = list(train_set) #train_set의 길이가 100만이 되면 이 set형태를 list형태로 바꾸어 train_fin_list에 넣어줌.\n",
        "    \n",
        "    #train_fin_list를 순서대로 sort한 list를 return\n",
        "    return sorted(train_fin_list) \n",
        "\n",
        "#위에서 만들었던 함수를 이용하여 각각의 요소에 해당하는 값을 범위에 맞게 생성\n",
        "sleep_min = Random_train(0,36000) \n",
        "excercise_min = Random_train(0,7200)\n",
        "hobby_min = Random_train(0,18000)\n",
        "happy_num = Random_train(0,1000)\n",
        "\n",
        "#갯수 출력\n",
        "print(len(sleep_min), len(excercise_min), len(hobby_min), len(happy_num))"
      ]
    },
    {
      "cell_type": "code",
      "source": [
        "#데이터프레임 형태로 만들어 데이터 전처리 준비.\n",
        "#데이터프레임의 모양, 앞의 데이터 10개, 데이터프레임의 정보를 보여줌.\n",
        "df = pd.DataFrame({'숙면시간(초)' : sleep_min, '운동시간(초)' : excercise_min, '취미활동시간(초)' : hobby_min, '행복점수': happy_num})\n",
        "print(df.shape)\n",
        "print(df.head(10))\n",
        "print(df.info())"
      ],
      "metadata": {
        "id": "qIozv-btU7Re",
        "colab": {
          "base_uri": "https://localhost:8080/"
        },
        "outputId": "337bfa27-f26b-471a-d99e-3facdf92f364"
      },
      "execution_count": 2,
      "outputs": [
        {
          "output_type": "stream",
          "name": "stdout",
          "text": [
            "(1000000, 4)\n",
            "    숙면시간(초)   운동시간(초)  취미활동시간(초)      행복점수\n",
            "0  0.019665  0.012298   0.014526  0.000651\n",
            "1  0.046355  0.013081   0.021805  0.001633\n",
            "2  0.056469  0.013837   0.059117  0.002139\n",
            "3  0.071718  0.030102   0.077066  0.002274\n",
            "4  0.075447  0.035240   0.106096  0.004314\n",
            "5  0.096825  0.044628   0.120770  0.005335\n",
            "6  0.163276  0.048612   0.127358  0.005696\n",
            "7  0.164797  0.057935   0.129880  0.005900\n",
            "8  0.177127  0.063248   0.144498  0.006046\n",
            "9  0.231339  0.068982   0.154718  0.006047\n",
            "<class 'pandas.core.frame.DataFrame'>\n",
            "RangeIndex: 1000000 entries, 0 to 999999\n",
            "Data columns (total 4 columns):\n",
            " #   Column     Non-Null Count    Dtype  \n",
            "---  ------     --------------    -----  \n",
            " 0   숙면시간(초)    1000000 non-null  float64\n",
            " 1   운동시간(초)    1000000 non-null  float64\n",
            " 2   취미활동시간(초)  1000000 non-null  float64\n",
            " 3   행복점수       1000000 non-null  float64\n",
            "dtypes: float64(4)\n",
            "memory usage: 30.5 MB\n",
            "None\n"
          ]
        }
      ]
    },
    {
      "cell_type": "code",
      "source": [
        "df_shuffled=sklearn.utils.shuffle(df) #데이터프레임에서 sklearn 라이브러리를 사용해 인덱스를 섞음.\n",
        "happy_full=df_shuffled.to_numpy()\n",
        "print(happy_full)"
      ],
      "metadata": {
        "colab": {
          "base_uri": "https://localhost:8080/"
        },
        "id": "9o_G1hQSyZE9",
        "outputId": "08db6a73-8d0a-42d4-e08c-76c026aa790e"
      },
      "execution_count": 3,
      "outputs": [
        {
          "output_type": "stream",
          "name": "stdout",
          "text": [
            "[[21203.100542  4245.799751 10613.104351   589.504849]\n",
            " [31554.125279  6311.012482 15785.007127   876.312814]\n",
            " [ 6213.566569  1245.76763   3102.027761   172.614251]\n",
            " ...\n",
            " [18681.898313  3741.45005   9353.36073    520.062923]\n",
            " [ 9698.705252  1946.075804  4841.510462   269.786364]\n",
            " [30794.186208  6155.128674 15401.597048   855.024264]]\n"
          ]
        }
      ]
    },
    {
      "cell_type": "code",
      "source": [
        "happy_train = happy_full[:700000, 0:3] #넘파이 배열의 쓸 만큼의 배열의 첫번째부터 세번째 행까지 train data로 사용. \n",
        "happy_test = happy_full[:700000,3] #넘파이 배열의 쓸 만큼의 배열의 마지막 줄인 행복점수를 test data로 사용.\n",
        "\n",
        "print(happy_train)\n",
        "print(happy_test)"
      ],
      "metadata": {
        "colab": {
          "base_uri": "https://localhost:8080/"
        },
        "id": "Nma9Y323ysNr",
        "outputId": "78723167-3349-4b6b-88a1-73c83c632673"
      },
      "execution_count": 4,
      "outputs": [
        {
          "output_type": "stream",
          "name": "stdout",
          "text": [
            "[[21203.100542  4245.799751 10613.104351]\n",
            " [31554.125279  6311.012482 15785.007127]\n",
            " [ 6213.566569  1245.76763   3102.027761]\n",
            " ...\n",
            " [31435.917262  6287.290964 15726.815997]\n",
            " [15350.776401  3078.038508  7692.151313]\n",
            " [23401.034863  4682.256124 11710.832838]]\n",
            "[589.504849 876.312814 172.614251 ... 872.922779 427.259461 650.219186]\n"
          ]
        }
      ]
    },
    {
      "cell_type": "code",
      "source": [
        "#train_test_split모듈을 이용하여 학습과 테스트 세트 분리\n",
        "from sklearn.model_selection import train_test_split\n",
        "\n",
        "#앞에서 만들어준 데이터프레임 df와 난수를 통해 만들어 준 happy_num 데이터 100만개를 가지고 학습과 테스트 세트 분리.\n",
        "#sklearn에서 random_state라는 인자는 수행 시마다 동일한 결과를 얻기 위해 적용.\n",
        "#이 random함수의 seed를 고정시키기 위해 여러번 수행하더라도 같은 레코드 추출. \n",
        "#따라서 train set와 test set를 고정시키는 역할.\n",
        "train_input, test_input, train_target, test_target = train_test_split(happy_train, happy_test, random_state=42)\n",
        "print(len(train_input), len(test_input), len(train_target), len(test_target))"
      ],
      "metadata": {
        "colab": {
          "base_uri": "https://localhost:8080/"
        },
        "id": "w3adqZAXDz0U",
        "outputId": "bab32faa-40ae-47f4-ac2d-ca28e0cfad71"
      },
      "execution_count": 5,
      "outputs": [
        {
          "output_type": "stream",
          "name": "stdout",
          "text": [
            "525000 175000 525000 175000\n"
          ]
        }
      ]
    },
    {
      "cell_type": "markdown",
      "source": [
        "###*데이터 표준화와 정규화 과정*"
      ],
      "metadata": {
        "id": "EiijO99CzCDM"
      }
    },
    {
      "cell_type": "code",
      "source": [
        "#표준화와 정규화를 하기 위해 다음의 클래스를 가져와 사용.\n",
        "from sklearn.preprocessing import StandardScaler, MinMaxScaler\n",
        "\n",
        "#값들이 표준정규분포(평균이 0, 표준편차가 1)에 있도록 변환함.\n",
        "ss = StandardScaler()\n",
        "\n",
        "#우리가 만든 모델이 train data의 평균과 분산을 학습해야 하니까 train data에 한해서만 fit과정을 거치고\n",
        "#test data는 transform만 해줌. 새로운 데이터여야 하니까.\n",
        "train_ss_scaled = ss.fit_transform(train_input)\n",
        "test_ss_scaled = ss.transform(test_input)"
      ],
      "metadata": {
        "id": "_KzooREMD_fi"
      },
      "execution_count": 6,
      "outputs": []
    },
    {
      "cell_type": "code",
      "source": [
        "#train과 test의 데이터 값을 0과 1사이의 범위 값으로 변환하는 정규화 과정.\n",
        "#위와 같은 이유로 fit_transform()은 train data에 transform()은 test data에 적용.\n",
        "mm = MinMaxScaler()\n",
        "\n",
        "train_mm_scaled = mm.fit_transform(train_input)\n",
        "test_mm_scaled = mm.transform(test_input)"
      ],
      "metadata": {
        "id": "S74tFD63TcSq"
      },
      "execution_count": 7,
      "outputs": []
    },
    {
      "cell_type": "code",
      "source": [
        "print(f\"train set 표준화 후 평균\\n{train_ss_scaled.mean()}\")\n",
        "print(f\"train set 표준화 후 분산\\n{train_ss_scaled.var()}\\n\")\n",
        "\n",
        "print(f\"test set 표준화 후 평균\\n{test_ss_scaled.mean()}\")\n",
        "print(f\"test set 표준화 후 분산\\n{test_ss_scaled.var()}\\n\")\n",
        "\n",
        "print(f\"train set 정규화 후 평균\\n{train_mm_scaled.mean()}\")\n",
        "print(f\"train set 정규화 후 분산\\n{train_mm_scaled.var()}\\n\")\n",
        "\n",
        "print(f\"test set 정규화 후 평균\\n{test_mm_scaled.mean()}\")\n",
        "print(f\"test set 정규화 후 분산\\n{test_mm_scaled.var()}\")"
      ],
      "metadata": {
        "colab": {
          "base_uri": "https://localhost:8080/"
        },
        "id": "eGeRVwBCTiEf",
        "outputId": "eb63930a-9f65-4e53-b00c-cc2b424f6eab"
      },
      "execution_count": 8,
      "outputs": [
        {
          "output_type": "stream",
          "name": "stdout",
          "text": [
            "train set 표준화 후 평균\n",
            "-8.60262210673162e-15\n",
            "train set 표준화 후 분산\n",
            "1.0000000000000207\n",
            "\n",
            "test set 표준화 후 평균\n",
            "0.003923854896500588\n",
            "test set 표준화 후 분산\n",
            "1.0011350785345527\n",
            "\n",
            "train set 정규화 후 평균\n",
            "0.5001594409512712\n",
            "train set 정규화 후 분산\n",
            "0.08332361912732132\n",
            "\n",
            "test set 정규화 후 평균\n",
            "0.501292093540304\n",
            "test set 정규화 후 분산\n",
            "0.08341819788298219\n"
          ]
        }
      ]
    },
    {
      "cell_type": "code",
      "source": [
        "# from sklearn.preprocessing import PolynomialFeatures\n",
        "\n",
        "# poly = PolynomialFeatures(include_bias=False)\n",
        "# poly.fit([[2, 3]])\n",
        "# print(poly.transform([[2, 3]])) # [2. 3. 4. 6. 9]\n",
        "\n",
        "# poly = PolynomialFeatures(include_bias=False)\n",
        "# poly.fit(train_input)\n",
        "# train_poly = poly.transform(train_input)\n",
        "# test_poly = poly.transform(test_input)\n",
        "# print(train_poly.shape) # (42, 9)\n",
        "\n",
        "# poly.get_feature_names() \n",
        "# # ['x0', 'x1', 'x2', 'x0^2', 'x0 x1', 'x0 x2', 'x1^2', 'x1 x2', 'x2^2']\n",
        "\n",
        "# test_poly = poly.transform(test_input)"
      ],
      "metadata": {
        "id": "9no8TPW_N5aH"
      },
      "execution_count": 9,
      "outputs": []
    },
    {
      "cell_type": "markdown",
      "source": [
        "###*다중 회귀 모델*"
      ],
      "metadata": {
        "id": "a1Fc8nCTTsy9"
      }
    },
    {
      "cell_type": "code",
      "source": [
        "#PolynomialFeatures를 통한 특성을 만들 필요가 없기 때문에 그 과정은 생략하고 바로 다중 회귀모델을 훈련함.\n",
        "from sklearn.linear_model import LinearRegression\n",
        "\n",
        "lr = LinearRegression()\n",
        "lr.fit(train_ss_scaled, train_target)\n",
        "print(lr.score(train_ss_scaled, train_target))\n",
        "print(lr.score(test_ss_scaled, test_target))"
      ],
      "metadata": {
        "colab": {
          "base_uri": "https://localhost:8080/"
        },
        "id": "MZymCn32TpCM",
        "outputId": "885c4c12-3f80-4fac-9207-a6ee1343efc4"
      },
      "execution_count": 10,
      "outputs": [
        {
          "output_type": "stream",
          "name": "stdout",
          "text": [
            "0.9999995057442088\n",
            "0.9999995028945738\n"
          ]
        }
      ]
    },
    {
      "cell_type": "markdown",
      "source": [
        "* 위의 결과를 봤을 땐 아주 미세한 차이이지만 과소적합이 일어난 것을 알 수 있음. 또한 두 점수가 너무 높기 때문에 과적합이 일어났다고 말할 수 있음.\n",
        "\n",
        ">***1. 처음 100만개의 데이터를 생성할 때 데이터의 갯수를 좀 줄여보기도 하고 2. train data와 test data를 선정할 때 원래 100만개를 다 썼던 데이터를 점점 줄여가며 쓰거나 3. 데이터 사이의 차이를 주기 위해 소수점 자리수를 조절해 보기도 했지만 두 스코어 값이 높게 거의 비슷하게 나오거나 과소적합의 형태로 나오는 것을 볼 수 있었다.***\n",
        "-------------------------------------------------------------------------\n",
        "\n",
        "* 먼저 릿지 회귀부터 진행한 후에 이 문제를 해결해 보고자 한다.\n",
        "\n",
        ">***릿지 회귀에서도 비슷한 결과를 얻을 수 있었으며 데이터 사이의 차이가 많이 없는 탓인 듯하다.***"
      ],
      "metadata": {
        "id": "-G-hWd0vz9T-"
      }
    },
    {
      "cell_type": "markdown",
      "source": [
        "###*릿지 회귀*\n",
        "\n",
        ">계수를 곱한 값을 기준으로 규제를 적용함."
      ],
      "metadata": {
        "id": "h9Wk1nH5T25m"
      }
    },
    {
      "cell_type": "code",
      "source": [
        "# from sklearn.preprocessing import StandardScaler\n",
        "# ss = StandardScaler()\n",
        "# ss.fit(train_poly)\n",
        "# train_scaled = ss.transform(train_poly)\n",
        "# test_scaled = ss.transform(test_poly)\n",
        "\n",
        "from sklearn.linear_model import Ridge\n",
        "\n",
        "ridge = Ridge()\n",
        "ridge.fit(train_ss_scaled, train_target)\n",
        "\n",
        "print(ridge.score(train_ss_scaled, train_target))\n",
        "print(ridge.score(test_ss_scaled, test_target))"
      ],
      "metadata": {
        "colab": {
          "base_uri": "https://localhost:8080/"
        },
        "id": "nXJxX3fVT0M4",
        "outputId": "58c01bc4-4801-4c29-ba2c-1a13019ab37a"
      },
      "execution_count": 11,
      "outputs": [
        {
          "output_type": "stream",
          "name": "stdout",
          "text": [
            "0.9999994480094535\n",
            "0.9999994460599736\n"
          ]
        }
      ]
    },
    {
      "cell_type": "markdown",
      "source": [
        "* 릿지 모델을 사용했을땐 조금 나아지는 현상을 볼 수 있다. 그렇지만 거의 완벽에 가까운 모델이 나오는 모습을 봐서 과적합이라고 볼 수 있다.\n",
        "* 알파값 규제를 통해서 규제의 강도를 조절한다."
      ],
      "metadata": {
        "id": "ZNtVTr5j5Lxh"
      }
    },
    {
      "cell_type": "code",
      "source": [
        "import matplotlib.pyplot as plt\n",
        "\n",
        "train_score = []\n",
        "test_score = []\n",
        "alpha_list = [0.001, 0.01, 0.1, 1, 10, 100,1000]\n",
        "\n",
        "for alpha in alpha_list:\n",
        "    # 릿지 모델을 만듭니다\n",
        "    ridge = Ridge(alpha=alpha)\n",
        "    # 릿지 모델을 훈련합니다\n",
        "    ridge.fit(train_ss_scaled, train_target)\n",
        "    # 훈련 점수와 테스트 점수를 저장합니다\n",
        "    train_score.append(ridge.score(train_ss_scaled, train_target))\n",
        "    test_score.append(ridge.score(test_ss_scaled, test_target))\n",
        "    \n",
        "plt.plot(np.log10(alpha_list), train_score)\n",
        "plt.plot(np.log10(alpha_list), test_score)\n",
        "plt.xlabel('alpha')\n",
        "plt.ylabel('R^2')\n",
        "plt.show()"
      ],
      "metadata": {
        "colab": {
          "base_uri": "https://localhost:8080/",
          "height": 290
        },
        "id": "gKFNkVQcT-S7",
        "outputId": "b905503e-c38a-49a4-d119-531527a31be7"
      },
      "execution_count": 12,
      "outputs": [
        {
          "output_type": "display_data",
          "data": {
            "text/plain": [
              "<Figure size 432x288 with 1 Axes>"
            ],
            "image/png": "[encoded data removed]"
          },
          "metadata": {
            "needs_background": "light"
          }
        }
      ]
    },
    {
      "cell_type": "code",
      "source": [
        "train_score = []\n",
        "test_score = []\n",
        "alpha_list = [0.001, 0.01, 0.1, 1, 10, 100]\n",
        "\n",
        "for alpha in alpha_list:\n",
        "    # 릿지 모델을 만듭니다\n",
        "    ridge = Ridge(alpha=alpha)\n",
        "    # 릿지 모델을 훈련합니다\n",
        "    ridge.fit(train_ss_scaled, train_target)\n",
        "    # 훈련 점수와 테스트 점수를 저장합니다\n",
        "    train_score.append(ridge.score(train_mm_scaled, train_target))\n",
        "    test_score.append(ridge.score(test_mm_scaled, test_target))\n",
        "    \n",
        "plt.plot(np.log10(alpha_list), train_score)\n",
        "plt.plot(np.log10(alpha_list), test_score)\n",
        "plt.xlabel('alpha')\n",
        "plt.ylabel('R^2')\n",
        "plt.show()"
      ],
      "metadata": {
        "colab": {
          "base_uri": "https://localhost:8080/",
          "height": 279
        },
        "id": "_QikI0loYrlB",
        "outputId": "9872cb0e-3ea3-4dbb-afeb-be92282a9df5"
      },
      "execution_count": 13,
      "outputs": [
        {
          "output_type": "display_data",
          "data": {
            "text/plain": [
              "<Figure size 432x288 with 1 Axes>"
            ],
            "image/png": "[encoded data removed]"
          },
          "metadata": {
            "needs_background": "light"
          }
        }
      ]
    },
    {
      "cell_type": "markdown",
      "source": [
        "####어떤 알파값이 최적인지 찾는 과정\n",
        "\n",
        ">앞에서 표준화를 통해 구한 score값들을 가지고 릿지 모델의 최적의 알파값 도출. 마지막의 train과 test의 score차가 가장 적게 나는 계수를 가지고 사용."
      ],
      "metadata": {
        "id": "vQwK5J60XxeF"
      }
    },
    {
      "cell_type": "code",
      "source": [
        "ridge = Ridge(alpha=0.001) \n",
        "ridge.fit(train_ss_scaled, train_target)\n",
        "print(ridge.score(train_ss_scaled, train_target))\n",
        "print(ridge.score(test_ss_scaled, test_target))\n",
        "print((ridge.score(train_ss_scaled, train_target)-ridge.score(test_ss_scaled, test_target))*(10**10))"
      ],
      "metadata": {
        "colab": {
          "base_uri": "https://localhost:8080/"
        },
        "id": "DN7gw7epYsXS",
        "outputId": "9a366975-6128-4946-fd5a-f6cc827932ba"
      },
      "execution_count": 14,
      "outputs": [
        {
          "output_type": "stream",
          "name": "stdout",
          "text": [
            "0.999999505743686\n",
            "0.9999995028961368\n",
            "28.475491964385924\n"
          ]
        }
      ]
    },
    {
      "cell_type": "code",
      "source": [
        "ridge = Ridge(alpha=0.01)\n",
        "ridge.fit(train_ss_scaled, train_target)\n",
        "\n",
        "print(ridge.score(train_ss_scaled, train_target))\n",
        "print(ridge.score(test_ss_scaled, test_target))\n",
        "print((ridge.score(train_ss_scaled, train_target)-ridge.score(test_ss_scaled, test_target))*(10**10))"
      ],
      "metadata": {
        "colab": {
          "base_uri": "https://localhost:8080/"
        },
        "id": "S2Xq9HX1YwBN",
        "outputId": "0abac31a-a165-4543-b73e-7f501b573b58"
      },
      "execution_count": 15,
      "outputs": [
        {
          "output_type": "stream",
          "name": "stdout",
          "text": [
            "0.9999995056938583\n",
            "0.999999502864836\n",
            "28.2902234971516\n"
          ]
        }
      ]
    },
    {
      "cell_type": "code",
      "source": [
        "ridge = Ridge(alpha=0.1)\n",
        "ridge.fit(train_ss_scaled, train_target)\n",
        "\n",
        "print(ridge.score(train_ss_scaled, train_target))\n",
        "print(ridge.score(test_ss_scaled, test_target))\n",
        "print((ridge.score(train_ss_scaled, train_target)-ridge.score(test_ss_scaled, test_target))*(10**10))"
      ],
      "metadata": {
        "colab": {
          "base_uri": "https://localhost:8080/"
        },
        "id": "Txsp0nWbbjBi",
        "outputId": "743d7a6e-6035-4941-b3f4-f8292a6c09c8"
      },
      "execution_count": 16,
      "outputs": [
        {
          "output_type": "stream",
          "name": "stdout",
          "text": [
            "0.9999995021521326\n",
            "0.9999994994869524\n",
            "26.651801876553805\n"
          ]
        }
      ]
    },
    {
      "cell_type": "code",
      "source": [
        "ridge = Ridge(alpha=1) \n",
        "ridge.fit(train_ss_scaled, train_target)\n",
        "\n",
        "print(ridge.score(train_ss_scaled, train_target))\n",
        "print(ridge.score(test_ss_scaled, test_target))\n",
        "print((ridge.score(train_ss_scaled, train_target)-ridge.score(test_ss_scaled, test_target))*(10**10))"
      ],
      "metadata": {
        "colab": {
          "base_uri": "https://localhost:8080/"
        },
        "id": "GzbZR0I5bkSi",
        "outputId": "f17e0548-f974-45ee-9893-8353f683cf69"
      },
      "execution_count": 17,
      "outputs": [
        {
          "output_type": "stream",
          "name": "stdout",
          "text": [
            "0.9999994480094535\n",
            "0.9999994460599736\n",
            "19.49479910834384\n"
          ]
        }
      ]
    },
    {
      "cell_type": "code",
      "source": [
        "ridge = Ridge(alpha=10)\n",
        "ridge.fit(train_ss_scaled, train_target)\n",
        "\n",
        "print(ridge.score(train_ss_scaled, train_target))\n",
        "print(ridge.score(test_ss_scaled, test_target))\n",
        "print((ridge.score(train_ss_scaled, train_target)-ridge.score(test_ss_scaled, test_target))*(10**10))"
      ],
      "metadata": {
        "colab": {
          "base_uri": "https://localhost:8080/"
        },
        "id": "WpH3wAbObnzl",
        "outputId": "4b359c42-37b0-4403-e6d2-de075a1b4550"
      },
      "execution_count": 18,
      "outputs": [
        {
          "output_type": "stream",
          "name": "stdout",
          "text": [
            "0.9999993841684833\n",
            "0.9999993827651943\n",
            "14.03289040524669\n"
          ]
        }
      ]
    },
    {
      "cell_type": "code",
      "source": [
        "ridge = Ridge(alpha=100)\n",
        "ridge.fit(train_ss_scaled, train_target)\n",
        "\n",
        "print(ridge.score(train_ss_scaled, train_target))\n",
        "print(ridge.score(test_ss_scaled, test_target))\n",
        "print((ridge.score(train_ss_scaled, train_target)-ridge.score(test_ss_scaled, test_target))*(10**10))"
      ],
      "metadata": {
        "colab": {
          "base_uri": "https://localhost:8080/"
        },
        "id": "fdkD2rrWbqpd",
        "outputId": "0646efc7-fabc-41e1-a8e1-1e7053b7fb43"
      },
      "execution_count": 19,
      "outputs": [
        {
          "output_type": "stream",
          "name": "stdout",
          "text": [
            "0.9999993682263758\n",
            "0.9999993666605296\n",
            "15.658462304557474\n"
          ]
        }
      ]
    }
  ]
}