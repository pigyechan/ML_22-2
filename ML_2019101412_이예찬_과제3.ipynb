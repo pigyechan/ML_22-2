{
  "nbformat": 4,
  "nbformat_minor": 0,
  "metadata": {
    "colab": {
      "provenance": [],
      "collapsed_sections": [],
      "authorship_tag": "ABX9TyPT/hszujzrPoa5iyWPwPz/",
      "include_colab_link": true
    },
    "kernelspec": {
      "name": "python3",
      "display_name": "Python 3"
    },
    "language_info": {
      "name": "python"
    }
  },
  "cells": [
    {
      "cell_type": "markdown",
      "metadata": {
        "id": "view-in-github",
        "colab_type": "text"
      },
      "source": [
        "<a href=\"https://colab.research.google.com/github/pigyechan/ML_22-2/blob/main/ML_2019101412_%EC%9D%B4%EC%98%88%EC%B0%AC_%EA%B3%BC%EC%A0%9C3.ipynb\" target=\"_parent\"><img src=\"https://colab.research.google.com/assets/colab-badge.svg\" alt=\"Open In Colab\"/></a>"
      ]
    },
    {
      "cell_type": "markdown",
      "source": [
        "#[과제 3] Machine Learning of Multiple Features\n",
        "##**컴퓨터 메카트로닉스공학부 소프트웨어전공**\n",
        "###**2019101412 이예찬**"
      ],
      "metadata": {
        "id": "GT3q7s1DV7uz"
      }
    },
    {
      "cell_type": "markdown",
      "source": [
        "###*행복지수를 예측하는 모델 만들기*\n",
        "> 요소 3가지(숙면시간, 운동시간, 취미활동시간)을 가지고 그 날의 행복 지수를 예측하는 모델을 만들고자 한다."
      ],
      "metadata": {
        "id": "zsq43s1bVNss"
      }
    },
    {
      "cell_type": "code",
      "execution_count": 1,
      "metadata": {
        "id": "g4w9jFZMUyHt",
        "colab": {
          "base_uri": "https://localhost:8080/"
        },
        "outputId": "87d7a5c2-fe1d-465e-dd6f-72c62c503318"
      },
      "outputs": [
        {
          "output_type": "stream",
          "name": "stdout",
          "text": [
            "1000000 1000000 1000000 1000000\n"
          ]
        }
      ],
      "source": [
        "import pandas as pd #pandas 모듈을 pd라는 이름으로 불러오기\n",
        "import numpy as np #numpy 모듈을 np라는 이름으로 불러오기\n",
        "from numpy import random #numpy의 서브모듈인 random을 이용하여 난수를 생성.\n",
        "import sklearn\n",
        "\n",
        "#랜덤하게 난수를 생성해서 중복이 없는 train set, target set 만드는 함수 먼저 생성\n",
        "def Random_train(a,b):\n",
        "    train_list = []\n",
        "    train_fin_list = []\n",
        "    train_set = set() #중복이 없지만 순서가 상관없는 set형태 사용.\n",
        "\n",
        "    while len(train_set) < 1000000: #train_set의 길이가 100만일때까지 실행\n",
        "        for i in range(1000000-len(train_set)): #100만에서 train_set의 길이를 뺀 만큼 실행.\n",
        "            num = round(random.uniform(a,b),6) #소수점 여섯번째까지 a부터 b사이의 실수인 난수 생성\n",
        "            train_list.append(num) #train_list에 하나씩 list형태로 넣음.\n",
        "        train_set = set.union(train_set, set(train_list)) #합집합 형태로 중복되는 값 제거\n",
        "    train_fin_list = list(train_set) #train_set의 길이가 100만이 되면 이 set형태를 list형태로 바꾸어 train_fin_list에 넣어줌.\n",
        "    \n",
        "    #train_fin_list를 순서대로 sort한 list를 return\n",
        "    return sorted(train_fin_list) \n",
        "\n",
        "#위에서 만들었던 함수를 이용하여 각각의 요소에 해당하는 값을 범위에 맞게 생성\n",
        "sleep_min = Random_train(0,36000) \n",
        "excercise_min = Random_train(0,7200)\n",
        "hobby_min = Random_train(0,18000)\n",
        "happy_num = Random_train(0,1000)\n",
        "\n",
        "#갯수 출력\n",
        "print(len(sleep_min), len(excercise_min), len(hobby_min), len(happy_num))"
      ]
    },
    {
      "cell_type": "code",
      "source": [
        "#데이터프레임 형태로 만들어 데이터 전처리 준비.\n",
        "#데이터프레임의 모양, 앞의 데이터 10개, 데이터프레임의 정보를 보여줌.\n",
        "df = pd.DataFrame({'숙면시간(초)' : sleep_min, '운동시간(초)' : excercise_min, '취미활동시간(초)' : hobby_min, '행복점수': happy_num})\n",
        "print(df.shape)\n",
        "print(df.head(10))\n",
        "print(df.info())"
      ],
      "metadata": {
        "id": "qIozv-btU7Re",
        "colab": {
          "base_uri": "https://localhost:8080/"
        },
        "outputId": "8913a17d-7e27-4136-b9f8-c355db2931cc"
      },
      "execution_count": 2,
      "outputs": [
        {
          "output_type": "stream",
          "name": "stdout",
          "text": [
            "(1000000, 4)\n",
            "    숙면시간(초)   운동시간(초)  취미활동시간(초)      행복점수\n",
            "0  0.052558  0.005348   0.006311  0.002927\n",
            "1  0.059079  0.007094   0.009201  0.003181\n",
            "2  0.077439  0.022684   0.020386  0.004174\n",
            "3  0.079281  0.023394   0.036120  0.004550\n",
            "4  0.083676  0.034885   0.056165  0.004804\n",
            "5  0.136013  0.078625   0.083065  0.005449\n",
            "6  0.226448  0.089078   0.139305  0.005635\n",
            "7  0.231755  0.089469   0.167962  0.006806\n",
            "8  0.233503  0.090429   0.216561  0.007330\n",
            "9  0.289754  0.101311   0.225303  0.007838\n",
            "<class 'pandas.core.frame.DataFrame'>\n",
            "RangeIndex: 1000000 entries, 0 to 999999\n",
            "Data columns (total 4 columns):\n",
            " #   Column     Non-Null Count    Dtype  \n",
            "---  ------     --------------    -----  \n",
            " 0   숙면시간(초)    1000000 non-null  float64\n",
            " 1   운동시간(초)    1000000 non-null  float64\n",
            " 2   취미활동시간(초)  1000000 non-null  float64\n",
            " 3   행복점수       1000000 non-null  float64\n",
            "dtypes: float64(4)\n",
            "memory usage: 30.5 MB\n",
            "None\n"
          ]
        }
      ]
    },
    {
      "cell_type": "code",
      "source": [
        "df_shuffled=sklearn.utils.shuffle(df) #데이터프레임에서 sklearn 라이브러리를 사용해 인덱스를 섞음.\n",
        "happy_full=df_shuffled.to_numpy()\n",
        "print(happy_full)"
      ],
      "metadata": {
        "colab": {
          "base_uri": "https://localhost:8080/"
        },
        "id": "9o_G1hQSyZE9",
        "outputId": "523fc71c-4be2-4009-fe68-d2e0036ce56c"
      },
      "execution_count": 3,
      "outputs": [
        {
          "output_type": "stream",
          "name": "stdout",
          "text": [
            "[[30484.572006  6098.072929 15253.125071   846.743567]\n",
            " [25643.601643  5124.273556 12835.179465   711.701505]\n",
            " [35973.347727  7194.386075 17986.569941   999.264824]\n",
            " ...\n",
            " [ 7085.217476  1416.74862   3545.161995   197.081161]\n",
            " [18301.95776   3652.40732   9167.025157   508.604783]\n",
            " [15457.484277  3086.849603  7745.303019   430.017554]]\n"
          ]
        }
      ]
    },
    {
      "cell_type": "code",
      "source": [
        "happy_train = happy_full[0:500000, 0:3] #넘파이 배열의 쓸 만큼의 배열의 첫번째부터 세번째 행까지 train data로 사용. \n",
        "happy_test = happy_full[0:500000,3] #넘파이 배열의 쓸 만큼의 배열의 마지막 줄인 행복점수를 test data로 사용.\n",
        "\n",
        "print(happy_train)\n",
        "print(happy_test)"
      ],
      "metadata": {
        "colab": {
          "base_uri": "https://localhost:8080/"
        },
        "id": "Nma9Y323ysNr",
        "outputId": "26813424-388c-4d66-d89f-d2737598c81e"
      },
      "execution_count": 4,
      "outputs": [
        {
          "output_type": "stream",
          "name": "stdout",
          "text": [
            "[[30484.572006  6098.072929 15253.125071]\n",
            " [25643.601643  5124.273556 12835.179465]\n",
            " [35973.347727  7194.386075 17986.569941]\n",
            " ...\n",
            " [29447.750067  5891.151511 14739.693521]\n",
            " [ 2067.825745   414.683691  1041.052833]\n",
            " [ 4996.47535    997.1316    2499.301055]]\n",
            "[846.743567 711.701505 999.264824 ... 818.134917  57.825769 138.66508 ]\n"
          ]
        }
      ]
    },
    {
      "cell_type": "code",
      "source": [
        "#train_test_split모듈을 이용하여 학습과 테스트 세트 분리\n",
        "from sklearn.model_selection import train_test_split\n",
        "\n",
        "#앞에서 만들어준 데이터프레임 df와 난수를 통해 만들어 준 happy_num 데이터 100만개를 가지고 학습과 테스트 세트 분리.\n",
        "#sklearn에서 random_state라는 인자는 수행 시마다 동일한 결과를 얻기 위해 적용.\n",
        "#이 random함수의 seed를 고정시키기 위해 여러번 수행하더라도 같은 레코드 추출. \n",
        "#따라서 train set와 test set를 고정시키는 역할.\n",
        "train_input, test_input, train_target, test_target = train_test_split(happy_train, happy_test, random_state=42)\n",
        "print(len(train_input), len(test_input), len(train_target), len(test_target))"
      ],
      "metadata": {
        "colab": {
          "base_uri": "https://localhost:8080/"
        },
        "id": "w3adqZAXDz0U",
        "outputId": "93d3d28a-96f6-4459-e50d-687f88782ffd"
      },
      "execution_count": 5,
      "outputs": [
        {
          "output_type": "stream",
          "name": "stdout",
          "text": [
            "375000 125000 375000 125000\n"
          ]
        }
      ]
    },
    {
      "cell_type": "markdown",
      "source": [
        "###*데이터 표준화와 정규화 과정*"
      ],
      "metadata": {
        "id": "EiijO99CzCDM"
      }
    },
    {
      "cell_type": "code",
      "source": [
        "#표준화와 정규화를 하기 위해 다음의 클래스를 가져와 사용.\n",
        "from sklearn.preprocessing import StandardScaler, MinMaxScaler\n",
        "\n",
        "#값들이 표준정규분포(평균이 0, 표준편차가 1)에 있도록 변환함.\n",
        "ss = StandardScaler()\n",
        "\n",
        "#우리가 만든 모델이 train data의 평균과 분산을 학습해야 하니까 train data에 한해서만 fit과정을 거치고\n",
        "#test data는 transform만 해줌. 새로운 데이터여야 하니까.\n",
        "train_ss_scaled = ss.fit_transform(train_input)\n",
        "test_ss_scaled = ss.transform(test_input)"
      ],
      "metadata": {
        "id": "_KzooREMD_fi"
      },
      "execution_count": 6,
      "outputs": []
    },
    {
      "cell_type": "code",
      "source": [
        "#train과 test의 데이터 값을 0과 1사이의 범위 값으로 변환하는 정규화 과정.\n",
        "#위와 같은 이유로 fit_transform()은 train data에 transform()은 test data에 적용.\n",
        "mm = MinMaxScaler()\n",
        "\n",
        "train_mm_scaled = mm.fit_transform(train_input)\n",
        "test_mm_scaled = mm.transform(test_input)"
      ],
      "metadata": {
        "id": "S74tFD63TcSq"
      },
      "execution_count": 7,
      "outputs": []
    },
    {
      "cell_type": "code",
      "source": [
        "print(f\"train set 표준화 후 평균\\n{train_ss_scaled.mean()}\")\n",
        "print(f\"train set 표준화 후 분산\\n{train_ss_scaled.var()}\\n\")\n",
        "\n",
        "print(f\"test set 표준화 후 평균\\n{test_ss_scaled.mean()}\")\n",
        "print(f\"test set 표준화 후 분산\\n{test_ss_scaled.var()}\\n\")\n",
        "\n",
        "print(f\"train set 정규화 후 평균\\n{train_mm_scaled.mean()}\")\n",
        "print(f\"train set 정규화 후 분산\\n{train_mm_scaled.var()}\\n\")\n",
        "\n",
        "print(f\"test set 정규화 후 평균\\n{test_mm_scaled.mean()}\")\n",
        "print(f\"test set 정규화 후 분산\\n{test_mm_scaled.var()}\")"
      ],
      "metadata": {
        "colab": {
          "base_uri": "https://localhost:8080/"
        },
        "id": "eGeRVwBCTiEf",
        "outputId": "6ea46b17-4dd5-4775-c147-5c4835088492"
      },
      "execution_count": 8,
      "outputs": [
        {
          "output_type": "stream",
          "name": "stdout",
          "text": [
            "train set 표준화 후 평균\n",
            "-3.988130477713033e-14\n",
            "train set 표준화 후 분산\n",
            "1.0000000000000033\n",
            "\n",
            "test set 표준화 후 평균\n",
            "-0.003416591658251402\n",
            "test set 표준화 후 분산\n",
            "0.9929181872114182\n",
            "\n",
            "train set 정규화 후 평균\n",
            "0.49987853219092815\n",
            "train set 정규화 후 분산\n",
            "0.083510850629272\n",
            "\n",
            "test set 정규화 후 평균\n",
            "0.4988911982170547\n",
            "test set 정규화 후 분산\n",
            "0.08291944418663515\n"
          ]
        }
      ]
    },
    {
      "cell_type": "markdown",
      "source": [
        "###*다중 회귀 모델*"
      ],
      "metadata": {
        "id": "a1Fc8nCTTsy9"
      }
    },
    {
      "cell_type": "code",
      "source": [
        "#PolynomialFeatures를 통한 특성을 만들 필요가 없기 때문에 그 과정은 생략하고 바로 다중 회귀모델을 훈련함.\n",
        "from sklearn.linear_model import LinearRegression\n",
        "\n",
        "lr = LinearRegression()\n",
        "lr.fit(train_input, train_target)\n",
        "print(lr.score(train_input, train_target))\n",
        "print(lr.score(test_input, test_target))"
      ],
      "metadata": {
        "colab": {
          "base_uri": "https://localhost:8080/"
        },
        "id": "MZymCn32TpCM",
        "outputId": "f784b65f-d6bf-4764-b279-99a76cb0d21e"
      },
      "execution_count": 9,
      "outputs": [
        {
          "output_type": "stream",
          "name": "stdout",
          "text": [
            "0.9999986273667989\n",
            "0.9999986162976604\n"
          ]
        }
      ]
    },
    {
      "cell_type": "markdown",
      "source": [
        "* 위의 결과를 봤을 땐 아주 미세한 차이이지만 과소적합이 일어난 것을 알 수 있음. 또한 두 점수가 너무 높기 때문에 과소적합이 일어났다고 말할 수 있음.\n",
        "\n",
        ">***처음 100만개의 데이터를 생성할 때 데이터의 갯수를 좀 줄여보기도 하고 train data와 test data를 선정할 때 원래 100만개를 다 썼던 데이터를 점점 줄여가며 써봤는데도 두 스코어 값이 높게 거의 비슷하게 나오거나 과소적합의 형태로 나오는 것을 볼 수 있었다.***\n",
        "-------------------------------------------------------------------------\n",
        "\n",
        "* 먼저 릿지 회귀부터 진행한 후에 이 문제를 해결해 보고자 한다.\n",
        "\n",
        ">***릿지 회귀에서도 비슷한 결과를 얻을 수 있었으며 데이터 사이의 차이가 많이 없는 탓인 듯하다.***"
      ],
      "metadata": {
        "id": "-G-hWd0vz9T-"
      }
    },
    {
      "cell_type": "markdown",
      "source": [
        "###*릿지 회귀*\n",
        "\n",
        ">계수를 곱한 값을 기준으로 규제를 적용함."
      ],
      "metadata": {
        "id": "h9Wk1nH5T25m"
      }
    },
    {
      "cell_type": "code",
      "source": [
        "from sklearn.linear_model import Ridge\n",
        "\n",
        "ridge = Ridge()\n",
        "ridge.fit(train_ss_scaled, train_target)\n",
        "\n",
        "print(ridge.score(train_ss_scaled, train_target))\n",
        "print(ridge.score(test_ss_scaled, test_target))"
      ],
      "metadata": {
        "colab": {
          "base_uri": "https://localhost:8080/"
        },
        "id": "nXJxX3fVT0M4",
        "outputId": "2e911684-d7f7-4dfb-8a2f-d1a2a143199a"
      },
      "execution_count": 10,
      "outputs": [
        {
          "output_type": "stream",
          "name": "stdout",
          "text": [
            "0.9999985778001517\n",
            "0.9999985645268492\n"
          ]
        }
      ]
    },
    {
      "cell_type": "markdown",
      "source": [
        "* 릿지 모델을 사용했을땐 조금 나아지는 현상을 볼 수 있다. 그렇지만 거의 완벽에 가까운 모델이 나오는 모습을 봐서 과적합이라고 볼 수 있다.\n",
        "* 알파값 규제를 통해서 규제의 강도를 조절한다."
      ],
      "metadata": {
        "id": "ZNtVTr5j5Lxh"
      }
    },
    {
      "cell_type": "code",
      "source": [
        "import matplotlib.pyplot as plt\n",
        "\n",
        "train_score = []\n",
        "test_score = []\n",
        "alpha_list = [0.0001, 0.001, 0.01, 0.1, 1, 10, 100,1000,10000]\n",
        "\n",
        "for alpha in alpha_list:\n",
        "    # 릿지 모델을 만듭니다\n",
        "    ridge = Ridge(alpha=alpha)\n",
        "    # 릿지 모델을 훈련합니다\n",
        "    ridge.fit(train_ss_scaled, train_target)\n",
        "    # 훈련 점수와 테스트 점수를 저장합니다\n",
        "    train_score.append(ridge.score(train_ss_scaled, train_target))\n",
        "    test_score.append(ridge.score(test_ss_scaled, test_target))\n",
        "    \n",
        "plt.plot(np.log10(alpha_list), train_score)\n",
        "plt.plot(np.log10(alpha_list), test_score)\n",
        "plt.xlabel('alpha')\n",
        "plt.ylabel('R^2')\n",
        "plt.show()"
      ],
      "metadata": {
        "colab": {
          "base_uri": "https://localhost:8080/",
          "height": 290
        },
        "id": "gKFNkVQcT-S7",
        "outputId": "6a34a2a8-babf-4719-a009-0e29be1b3a39"
      },
      "execution_count": 11,
      "outputs": [
        {
          "output_type": "display_data",
          "data": {
            "text/plain": [
              "<Figure size 432x288 with 1 Axes>"
            ],
            "image/png": "[encoded data removed]"
          },
          "metadata": {
            "needs_background": "light"
          }
        }
      ]
    },
    {
      "cell_type": "code",
      "source": [
        "train_score = []\n",
        "test_score = []\n",
        "alpha_list = [0.001, 0.01, 0.1, 1, 10, 100]\n",
        "\n",
        "for alpha in alpha_list:\n",
        "    # 릿지 모델을 만듭니다\n",
        "    ridge = Ridge(alpha=alpha)\n",
        "    # 릿지 모델을 훈련합니다\n",
        "    ridge.fit(train_ss_scaled, train_target)\n",
        "    # 훈련 점수와 테스트 점수를 저장합니다\n",
        "    train_score.append(ridge.score(train_mm_scaled, train_target))\n",
        "    test_score.append(ridge.score(test_mm_scaled, test_target))\n",
        "    \n",
        "plt.plot(np.log10(alpha_list), train_score)\n",
        "plt.plot(np.log10(alpha_list), test_score)\n",
        "plt.xlabel('alpha')\n",
        "plt.ylabel('R^2')\n",
        "plt.show()"
      ],
      "metadata": {
        "colab": {
          "base_uri": "https://localhost:8080/",
          "height": 279
        },
        "id": "_QikI0loYrlB",
        "outputId": "2b566df7-5441-4021-8285-802e15c25cb5"
      },
      "execution_count": 12,
      "outputs": [
        {
          "output_type": "display_data",
          "data": {
            "text/plain": [
              "<Figure size 432x288 with 1 Axes>"
            ],
            "image/png": "[encoded data removed]"
          },
          "metadata": {
            "needs_background": "light"
          }
        }
      ]
    },
    {
      "cell_type": "markdown",
      "source": [
        "####어떤 알파값이 최적인지 찾는 과정"
      ],
      "metadata": {
        "id": "vQwK5J60XxeF"
      }
    },
    {
      "cell_type": "code",
      "source": [
        "ridge = Ridge(alpha=0.001) #최적\n",
        "ridge.fit(train_ss_scaled, train_target)\n",
        "\n",
        "print(ridge.score(train_ss_scaled, train_target))\n",
        "print(ridge.score(test_ss_scaled, test_target))\n",
        "print((ridge.score(train_ss_scaled, train_target)-ridge.score(test_ss_scaled, test_target))*(10**10))"
      ],
      "metadata": {
        "colab": {
          "base_uri": "https://localhost:8080/"
        },
        "id": "DN7gw7epYsXS",
        "outputId": "321d8cba-c150-4ecf-9747-0cdb69b15691"
      },
      "execution_count": 13,
      "outputs": [
        {
          "output_type": "stream",
          "name": "stdout",
          "text": [
            "0.9999986273649811\n",
            "0.9999986162833674\n",
            "110.81613737751184\n"
          ]
        }
      ]
    },
    {
      "cell_type": "code",
      "source": [
        "ridge = Ridge(alpha=0.01) #오히려 안 좋아 짐\n",
        "ridge.fit(train_ss_scaled, train_target)\n",
        "\n",
        "print(ridge.score(train_ss_scaled, train_target))\n",
        "print(ridge.score(test_ss_scaled, test_target))\n",
        "print((ridge.score(train_ss_scaled, train_target)-ridge.score(test_ss_scaled, test_target))*(10**10))"
      ],
      "metadata": {
        "colab": {
          "base_uri": "https://localhost:8080/"
        },
        "id": "S2Xq9HX1YwBN",
        "outputId": "4085383e-7e0e-43dd-d20a-d43a2b761b87"
      },
      "execution_count": 14,
      "outputs": [
        {
          "output_type": "stream",
          "name": "stdout",
          "text": [
            "0.9999986272005239\n",
            "0.9999986160115901\n",
            "111.88933779493482\n"
          ]
        }
      ]
    },
    {
      "cell_type": "code",
      "source": [
        "ridge = Ridge(alpha=0.1) #점점 안 좋아짐.\n",
        "ridge.fit(train_ss_scaled, train_target)\n",
        "\n",
        "print(ridge.score(train_ss_scaled, train_target))\n",
        "print(ridge.score(test_ss_scaled, test_target))\n",
        "print((ridge.score(train_ss_scaled, train_target)-ridge.score(test_ss_scaled, test_target))*(10**10))"
      ],
      "metadata": {
        "colab": {
          "base_uri": "https://localhost:8080/"
        },
        "id": "Txsp0nWbbjBi",
        "outputId": "908f5dc6-bf00-4bfb-9c49-df018d9fa7aa"
      },
      "execution_count": 15,
      "outputs": [
        {
          "output_type": "stream",
          "name": "stdout",
          "text": [
            "0.9999986193004321\n",
            "0.9999986073749475\n",
            "119.25484599828451\n"
          ]
        }
      ]
    },
    {
      "cell_type": "code",
      "source": [
        "ridge = Ridge(alpha=1) \n",
        "ridge.fit(train_ss_scaled, train_target)\n",
        "\n",
        "print(ridge.score(train_ss_scaled, train_target))\n",
        "print(ridge.score(test_ss_scaled, test_target))\n",
        "print((ridge.score(train_ss_scaled, train_target)-ridge.score(test_ss_scaled, test_target))*(10**10))"
      ],
      "metadata": {
        "colab": {
          "base_uri": "https://localhost:8080/"
        },
        "id": "GzbZR0I5bkSi",
        "outputId": "f3b6e779-f9d3-48fc-872f-ccd94d27304b"
      },
      "execution_count": 16,
      "outputs": [
        {
          "output_type": "stream",
          "name": "stdout",
          "text": [
            "0.9999985778001517\n",
            "0.9999985645268492\n",
            "132.73302457150749\n"
          ]
        }
      ]
    },
    {
      "cell_type": "code",
      "source": [
        "ridge = Ridge(alpha=10) #최악\n",
        "ridge.fit(train_ss_scaled, train_target)\n",
        "\n",
        "print(ridge.score(train_ss_scaled, train_target))\n",
        "print(ridge.score(test_ss_scaled, test_target))\n",
        "print((ridge.score(train_ss_scaled, train_target)-ridge.score(test_ss_scaled, test_target))*(10**10))"
      ],
      "metadata": {
        "colab": {
          "base_uri": "https://localhost:8080/"
        },
        "id": "WpH3wAbObnzl",
        "outputId": "ab583a79-16be-44c9-dcdb-8a4146d340cd"
      },
      "execution_count": 17,
      "outputs": [
        {
          "output_type": "stream",
          "name": "stdout",
          "text": [
            "0.9999985589736355\n",
            "0.99999854540109\n",
            "135.7254553191467\n"
          ]
        }
      ]
    },
    {
      "cell_type": "code",
      "source": [
        "ridge = Ridge(alpha=100)\n",
        "ridge.fit(train_ss_scaled, train_target)\n",
        "\n",
        "print(ridge.score(train_ss_scaled, train_target))\n",
        "print(ridge.score(test_ss_scaled, test_target))\n",
        "print((ridge.score(train_ss_scaled, train_target)-ridge.score(test_ss_scaled, test_target))*(10**10))"
      ],
      "metadata": {
        "colab": {
          "base_uri": "https://localhost:8080/"
        },
        "id": "fdkD2rrWbqpd",
        "outputId": "ed766bae-5f02-45d2-9000-1a505cfde148"
      },
      "execution_count": 18,
      "outputs": [
        {
          "output_type": "stream",
          "name": "stdout",
          "text": [
            "0.9999985487038457\n",
            "0.9999985361910849\n",
            "125.12760827476654\n"
          ]
        }
      ]
    },
    {
      "cell_type": "code",
      "source": [],
      "metadata": {
        "id": "_L6QTwwLbv65"
      },
      "execution_count": 18,
      "outputs": []
    }
  ]
}